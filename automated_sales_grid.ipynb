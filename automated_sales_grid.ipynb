{
 "cells": [
  {
   "cell_type": "code",
   "execution_count": 3,
   "id": "c48abd99-9741-4185-bdaa-9c1e1f25dbe2",
   "metadata": {},
   "outputs": [
    {
     "name": "stdout",
     "output_type": "stream",
     "text": [
      "Select a county by number:\n",
      "0: Frederick\n",
      "1: Carroll\n",
      "2: Washington\n",
      "3: Allegany\n",
      "4: Prince George\n",
      "5: Garrett\n",
      "6: Washington \n",
      "7: Frederick \n",
      "8: Montgomery\n",
      "9: Saint Mary's\n",
      "10: Charles\n",
      "11: Jefferson\n",
      "12: Calvert\n",
      "13: Carroll \n",
      "14: Baltimore\n",
      "15: Anne Arundel\n",
      "16: Howard\n"
     ]
    },
    {
     "name": "stdin",
     "output_type": "stream",
     "text": [
      "Enter the number corresponding to the county:  0\n"
     ]
    },
    {
     "name": "stdout",
     "output_type": "stream",
     "text": [
      "\n",
      "Filtered DataFrame for county: Frederick\n",
      "\n",
      "Select a use by number:\n",
      "0: Warehouse/ Flex\n",
      "1: Vacant Land\n",
      "2: Office Condo\n",
      "3: Professional Office\n",
      "4: Retail\n",
      "5: Medical Office\n",
      "6: Warehouse\n",
      "7: Mixed\n",
      "8: Apartment\n",
      "9: Church\n",
      "10: Restaurant\n",
      "11: Daycare\n",
      "12: Convenience Store\n",
      "13: Auto Sales/ Service\n",
      "14: Special Purpose\n",
      "15: Mixed \n",
      "16: Warehouse Condo\n"
     ]
    },
    {
     "name": "stdin",
     "output_type": "stream",
     "text": [
      "Enter the number corresponding to the use:  0\n"
     ]
    },
    {
     "name": "stdout",
     "output_type": "stream",
     "text": [
      "\n",
      "Filtered DataFrame for use: Warehouse/ Flex\n",
      "Original third column data: [None, None, None, 1, None, None, None, None, None, '=C7/C9', None, None, None, None, '=C6/C7', None, 'FEE SIMPLE', 0, '=C15*C18+C15', 'TYPICAL', 0, '=C19*C21+C19', 'ARMS-LENGTH', 0, '=C22*C24+C22', 'YES', 0.08, '=C25*C27+C25', 'STABLE', 0, '=C28*C30+C28', None, 0, 0, 0, 0, 0, 0, 0, '=SUM(C33:C39)', '=C31*C40+C31']\n"
     ]
    },
    {
     "ename": "TypeError",
     "evalue": "unsupported operand type(s) for +: 'NoneType' and 'str'",
     "output_type": "error",
     "traceback": [
      "\u001b[1;31m---------------------------------------------------------------------------\u001b[0m",
      "\u001b[1;31mTypeError\u001b[0m                                 Traceback (most recent call last)",
      "Cell \u001b[1;32mIn[3], line 104\u001b[0m\n\u001b[0;32m    102\u001b[0m new_cell \u001b[38;5;241m=\u001b[39m sheet\u001b[38;5;241m.\u001b[39mcell(row\u001b[38;5;241m=\u001b[39mrow, column\u001b[38;5;241m=\u001b[39m\u001b[38;5;241m3\u001b[39m \u001b[38;5;241m+\u001b[39m i)\n\u001b[0;32m    103\u001b[0m \u001b[38;5;28;01mif\u001b[39;00m row \u001b[38;5;241m==\u001b[39m \u001b[38;5;241m1\u001b[39m:\n\u001b[1;32m--> 104\u001b[0m     new_cell\u001b[38;5;241m.\u001b[39mvalue \u001b[38;5;241m=\u001b[39m \u001b[43moriginal_cell\u001b[49m\u001b[38;5;241;43m.\u001b[39;49m\u001b[43mvalue\u001b[49m\u001b[43m \u001b[49m\u001b[38;5;241;43m+\u001b[39;49m\u001b[43m \u001b[49m\u001b[38;5;28;43mchr\u001b[39;49m\u001b[43m(\u001b[49m\u001b[38;5;241;43m67\u001b[39;49m\u001b[43m \u001b[49m\u001b[38;5;241;43m+\u001b[39;49m\u001b[43m \u001b[49m\u001b[43mi\u001b[49m\u001b[43m)\u001b[49m  \u001b[38;5;66;03m# 67 is ASCII for 'C'\u001b[39;00m\n\u001b[0;32m    105\u001b[0m \u001b[38;5;28;01melse\u001b[39;00m:\n\u001b[0;32m    106\u001b[0m     new_cell\u001b[38;5;241m.\u001b[39mvalue \u001b[38;5;241m=\u001b[39m original_cell\u001b[38;5;241m.\u001b[39mvalue\n",
      "\u001b[1;31mTypeError\u001b[0m: unsupported operand type(s) for +: 'NoneType' and 'str'"
     ]
    }
   ],
   "source": [
    "import pandas as pd\n",
    "import openpyxl\n",
    "import datetime\n",
    "\n",
    "# Load the data\n",
    "df = pd.read_csv('PRG Sales Comparables Table.csv', encoding='latin1')\n",
    "\n",
    "# Function to convert the date integer string to short date format\n",
    "def convert_to_short_date(date_str):\n",
    "    try:\n",
    "        # Attempt to convert to integer\n",
    "        date_int = int(date_str)\n",
    "        \n",
    "        # Convert to a date (Excel date starting point)\n",
    "        date_value = datetime.datetime(1900, 1, 1) + datetime.timedelta(days=date_int - 2)\n",
    "        \n",
    "        return date_value  # Return as datetime object for proper sorting\n",
    "    except (ValueError, TypeError):\n",
    "        return None  # or return date_str to keep the original value\n",
    "\n",
    "# Apply the conversion to the 'Sale Date' column\n",
    "df['Sale Date'] = df['Sale Date'].apply(convert_to_short_date)\n",
    "\n",
    "# Sort the DataFrame by 'Sale Date' in descending order\n",
    "df = df.sort_values(by='Sale Date', ascending=False)\n",
    "\n",
    "# Function to format the numbers with commas and convert to text\n",
    "def format_land_size(size_str):\n",
    "    try:\n",
    "        size_int = int(size_str)\n",
    "        return f\"{size_int:,}\"  # Format with commas\n",
    "    except (ValueError, TypeError):\n",
    "        return None\n",
    "\n",
    "# Apply the formatting to the 'LAND SIZE (SF)' column\n",
    "df['LAND SIZE (SF)'] = df['LAND SIZE (SF)'].apply(format_land_size)\n",
    "\n",
    "# Display unique counties and their corresponding indices\n",
    "unique_counties = df['County'].unique()\n",
    "print(\"Select a county by number:\")\n",
    "for index, county in enumerate(unique_counties):\n",
    "    print(f\"{index}: {county}\")\n",
    "\n",
    "# Get user input for county\n",
    "try:\n",
    "    user_input = int(input(\"Enter the number corresponding to the county: \"))\n",
    "    \n",
    "    if 0 <= user_input < len(unique_counties):\n",
    "        selected_county = unique_counties[user_input]\n",
    "        df_filtered_by_county = df[df['County'] == selected_county]\n",
    "        \n",
    "        print(f\"\\nFiltered DataFrame for county: {selected_county}\")\n",
    "\n",
    "        # Display unique uses for the selected county\n",
    "        unique_uses = df_filtered_by_county['Use'].unique()\n",
    "        print(\"\\nSelect a use by number:\")\n",
    "        for index, use in enumerate(unique_uses):\n",
    "            print(f\"{index}: {use}\")\n",
    "\n",
    "        # Get user input for use\n",
    "        try:\n",
    "            user_input = int(input(\"Enter the number corresponding to the use: \"))\n",
    "            \n",
    "            if 0 <= user_input < len(unique_uses):\n",
    "                selected_use = unique_uses[user_input]\n",
    "                df = df_filtered_by_county[df_filtered_by_county['Use'] == selected_use]\n",
    "                \n",
    "                print(f\"\\nFiltered DataFrame for use: {selected_use}\")\n",
    "            else:\n",
    "                print(\"Invalid selection. Please select a number from the list.\")\n",
    "        except ValueError:\n",
    "            print(\"Invalid input. Please enter a number.\")\n",
    "    else:\n",
    "        print(\"Invalid selection. Please select a number from the list.\")\n",
    "except ValueError:\n",
    "    print(\"Invalid input. Please enter a number.\")\n",
    "\n",
    "df = df.head(5)\n",
    "\n",
    "# Load the Excel file\n",
    "file_path = 'flex_comp_grid.xlsx'\n",
    "workbook = openpyxl.load_workbook(file_path)\n",
    "sheet = workbook.active\n",
    "\n",
    "# Display the contents of the third column for reference\n",
    "third_column_data = [row[0] for row in sheet.iter_rows(min_col=3, max_col=3, values_only=True)]\n",
    "print(\"Original third column data:\", third_column_data)\n",
    "\n",
    "num_duplicates = df.shape[0]\n",
    "\n",
    "# Start processing each row\n",
    "for row in range(1, len(third_column_data) + 1):\n",
    "    original_cell = sheet.cell(row=row, column=3)\n",
    "\n",
    "    # Move the existing values from the fourth column to the right for all rows\n",
    "    for j in range(num_duplicates):\n",
    "        existing_cell = sheet.cell(row=row, column=4)\n",
    "        new_cell = sheet.cell(row=row, column=4 + j)\n",
    "        new_cell.value = existing_cell.value\n",
    "\n",
    "        if existing_cell.has_style:\n",
    "            new_cell.font = existing_cell.font.copy()\n",
    "            new_cell.fill = existing_cell.fill.copy()\n",
    "            new_cell.border = existing_cell.border.copy()\n",
    "            new_cell.alignment = existing_cell.alignment.copy()\n",
    "            new_cell.number_format = existing_cell.number_format\n",
    "\n",
    "    # Duplicating values in the third column\n",
    "    if row == 4:\n",
    "        for i in range(num_duplicates):\n",
    "            new_cell = sheet.cell(row=row, column=3 + i)\n",
    "            new_cell.value = original_cell.value + i\n",
    "            if original_cell.has_style:\n",
    "                new_cell.font = original_cell.font.copy()\n",
    "                new_cell.fill = original_cell.fill.copy()\n",
    "                new_cell.border = original_cell.border.copy()\n",
    "                new_cell.alignment = original_cell.alignment.copy()\n",
    "                new_cell.number_format = original_cell.number_format\n",
    "    else:\n",
    "        for i in range(num_duplicates):\n",
    "            new_cell = sheet.cell(row=row, column=3 + i)\n",
    "            new_cell.value = original_cell.value\n",
    "            if original_cell.has_style:\n",
    "                new_cell.font = original_cell.font.copy()\n",
    "                new_cell.fill = original_cell.fill.copy()\n",
    "                new_cell.border = original_cell.border.copy()\n",
    "                new_cell.alignment = original_cell.alignment.copy()\n",
    "                new_cell.number_format = original_cell.number_format\n",
    "\n",
    "# Insert values from the DataFrame into the specified rows in the Excel sheet\n",
    "for i in range(len(df)):\n",
    "    value_to_insert1 = df.iloc[i, 12]  # Get the value from the appropriate column\n",
    "    cell_to_insert1 = sheet.cell(row=5, column=3 + i)  # Target cell in the fifth row\n",
    "    cell_to_insert1.value = value_to_insert1  # Insert value\n",
    "\n",
    "    value_to_insert2 = df.iloc[i, 17]  # Get the value from the appropriate column\n",
    "    cell_to_insert2 = sheet.cell(row=6, column=3 + i)  # Target cell in the sixth row\n",
    "    cell_to_insert2.value = value_to_insert2  # Insert value\n",
    "\n",
    "    value_to_insert3 = df.iloc[i, 23]  # Get the value from the appropriate column\n",
    "    cell_to_insert3 = sheet.cell(row=7, column=3 + i)  # Target cell in the seventh row\n",
    "    cell_to_insert3.value = value_to_insert3  # Insert value\n",
    "\n",
    "    value_to_insert4 = df.iloc[i, 22]  # Get the value from the appropriate column\n",
    "    cell_to_insert4 = sheet.cell(row=9, column=3 + i)  # Target cell in the ninth row\n",
    "    cell_to_insert4.value = value_to_insert4  # Insert value\n",
    "\n",
    "    value_to_insert5 = df.iloc[i, 1]  # Get the value from the appropriate column\n",
    "    cell_to_insert5 = sheet.cell(row=11, column=3 + i)  # Target cell in the eleventh row\n",
    "    cell_to_insert5.value = value_to_insert5  # Insert value\n",
    "\n",
    "    value_to_insert6 = df.iloc[i, 26]  # Get the value from the appropriate column\n",
    "    cell_to_insert6 = sheet.cell(row=12, column=3 + i)  # Target cell in the twelfth row\n",
    "    cell_to_insert6.value = value_to_insert6  # Insert value\n",
    "\n",
    "    value_to_insert7 = df.iloc[i, 27]  # Get the value from the appropriate column\n",
    "    cell_to_insert7 = sheet.cell(row=13, column=3 + i)  # Target cell in the thirteenth row\n",
    "    cell_to_insert7.value = value_to_insert7  # Insert value\n",
    "\n",
    "    value_to_insert8 = df.iloc[i, 24]  # Get the value from the appropriate column\n",
    "    cell_to_insert8 = sheet.cell(row=14, column=3 + i)  # Target cell in the fourteenth row\n",
    "    cell_to_insert8.value = value_to_insert8  # Insert value\n",
    "\n",
    "# Save the modified workbook to a new Excel file\n",
    "output_file_path = 'duplicated_columns_with_incremented_fourth_row.xlsx'\n",
    "workbook.save(output_file_path)\n",
    "\n",
    "print(f\"Duplicated columns with incremented fourth row saved to '{output_file_path}'.\")\n"
   ]
  },
  {
   "cell_type": "code",
   "execution_count": 70,
   "id": "37bea207-b484-4394-83c7-49370fdf5707",
   "metadata": {},
   "outputs": [
    {
     "data": {
      "text/plain": [
       "Index(['PRG \\nReference Number', 'County', 'Use', 'Address', 'City', 'State',\n",
       "       'TAX ID ', 'Tax ID ', 'Map/ Grid/ Parcel', 'Legal Desc.', 'Grantor',\n",
       "       'Grantee', 'Sale Date', 'Deed', 'Property Rights', 'Conditions at Sale',\n",
       "       'Time on Market', 'Sale Price', 'Price/GBA', 'Vacancy', 'NOI',\n",
       "       'CAP RATE', 'LAND SIZE (SF)', 'GBA (SF)', 'YEAR BUILT', 'Parking',\n",
       "       'Zone', 'Utilities', 'APT ONLY\\nNumber of Units',\n",
       "       'APT ONLY\\nNumber of Rooms', 'APT ONLY\\nPrice per Unit',\n",
       "       'APT ONLY\\nPrice per Room', 'Comments', 'Unnamed: 33'],\n",
       "      dtype='object')"
      ]
     },
     "execution_count": 70,
     "metadata": {},
     "output_type": "execute_result"
    }
   ],
   "source": [
    "df.columns"
   ]
  },
  {
   "cell_type": "code",
   "execution_count": 86,
   "id": "d0902940-b26d-4a42-bcb0-6fcdcda40e2e",
   "metadata": {},
   "outputs": [
    {
     "name": "stdout",
     "output_type": "stream",
     "text": [
      "  LAND SIZE (SF)\n",
      "0          1,234\n",
      "1         56,789\n",
      "2        101,112\n",
      "3          3,000\n",
      "4         45,000\n"
     ]
    }
   ],
   "source": [
    "import pandas as pd\n",
    "\n",
    "# Sample DataFrame with some numeric values as strings\n",
    "data = {'LAND SIZE (SF)': ['1234', '56789', '101112', '3000', '45000']}\n",
    "df = pd.DataFrame(data)\n",
    "\n",
    "# Function to format the numbers with commas and convert to text\n",
    "def format_land_size(size_str):\n",
    "    try:\n",
    "        # Convert to integer\n",
    "        size_int = int(size_str)\n",
    "        # Format the integer with commas and convert to text\n",
    "        return f\"{size_int:,}\"  # This will format with commas\n",
    "    except (ValueError, TypeError):\n",
    "        return None  # or return size_str to keep the original value\n",
    "\n",
    "# Apply the formatting to the 'LAND SIZE (SF)' column\n",
    "df['LAND SIZE (SF)'] = df['LAND SIZE (SF)'].apply(format_land_size)\n",
    "\n",
    "print(df)\n"
   ]
  },
  {
   "cell_type": "code",
   "execution_count": 95,
   "id": "c8b0d36d-c40d-4704-85f0-9ad6e8002655",
   "metadata": {},
   "outputs": [
    {
     "data": {
      "text/plain": [
       "334    9/19/2022\n",
       "159    9/17/2018\n",
       "386     8/4/2022\n",
       "294    8/24/2018\n",
       "80     8/22/2019\n",
       "Name: Sale Date, dtype: object"
      ]
     },
     "execution_count": 95,
     "metadata": {},
     "output_type": "execute_result"
    }
   ],
   "source": [
    "df['Sale Date'].head()"
   ]
  }
 ],
 "metadata": {
  "kernelspec": {
   "display_name": "Python 3 (ipykernel)",
   "language": "python",
   "name": "python3"
  },
  "language_info": {
   "codemirror_mode": {
    "name": "ipython",
    "version": 3
   },
   "file_extension": ".py",
   "mimetype": "text/x-python",
   "name": "python",
   "nbconvert_exporter": "python",
   "pygments_lexer": "ipython3",
   "version": "3.12.5"
  }
 },
 "nbformat": 4,
 "nbformat_minor": 5
}
