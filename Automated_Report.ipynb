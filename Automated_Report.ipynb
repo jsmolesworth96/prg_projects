{
 "cells": [
  {
   "cell_type": "code",
   "execution_count": null,
   "id": "80cc812d-ef38-45a7-8466-90bd6c8445e8",
   "metadata": {},
   "outputs": [],
   "source": []
  }
 ],
 "metadata": {
  "kernelspec": {
   "display_name": "",
   "name": ""
  },
  "language_info": {
   "name": ""
  }
 },
 "nbformat": 4,
 "nbformat_minor": 5
}
