##### Title Page

# Define containers for user input
client = input("Enter the client's name: ")
property_address = input("Enter the property address: ")
report_date = input("Enter the report date (e.g., YYYY-MM-DD): ")
prg_ref_num = input("Enter the PRG reference number: ")

# Load the base template
doc = Document('Base Template.docx')

# Add space after title paragraph
doc.add_paragraph()  # Adds a blank paragraph for spacing

# Add a title paragraph with centered text
title_paragraph = doc.add_paragraph()
title_run = title_paragraph.add_run("APPRAISAL REPORT")

# Set font properties
title_run.bold = True
title_run.font.size = Pt(36)
title_run.font.name = 'Times New Roman'

# Set paragraph alignment to center
title_paragraph.alignment = 1  # Center alignment

doc.add_paragraph()  # Add a blank paragraph for spacing before the image

# Define the left column values and corresponding user input variables
left_column_values = ["CLIENT", "PROPERTY ADDRESS", "REPORT DATE", "PRG REFERENCE NUMBER"]
right_column_values = [client, property_address, report_date, prg_ref_num]

# Function to add a table with one row and two columns
def add_table(doc, left_text, right_text):
    table = doc.add_table(rows=1, cols=2)
    table.autofit = True
    table.style = 'Table Grid'
    
    # Access the first row
    row = table.rows[0]
    
    # Set the text for the left column
    cell_left = row.cells[0]
    cell_left.text = left_text
    cell_left.paragraphs[0].runs[0].font.size = Pt(12)
    cell_left.paragraphs[0].runs[0].font.name = 'Times New Roman'
    cell_left.paragraphs[0].runs[0].font.bold = True
    cell_left.paragraphs[0].runs[0].text = cell_left.paragraphs[0].runs[0].text.upper()

    # Set the text for the right column
    cell_right = row.cells[1]
    cell_right.text = right_text
    cell_right.paragraphs[0].runs[0].font.size = Pt(12)
    cell_right.paragraphs[0].runs[0].font.name = 'Times New Roman'
    cell_right.paragraphs[0].alignment = WD_ALIGN_PARAGRAPH.RIGHT
    
    # Remove borders from the table
    tbl = table._tbl
    tblPr = tbl.tblPr
    tblBorders = OxmlElement('w:tblBorders')
    for border in ['top', 'left', 'bottom', 'right', 'insideH', 'insideV']:
        border_elem = OxmlElement(f'w:{border}')
        border_elem.set(qn('w:val'), 'nil')
        tblBorders.append(border_elem)
    tblPr.append(tblBorders)
    
    return table

# Populate tables and add them to the document
for i in range(len(left_column_values)):
    add_table(doc, left_column_values[i], right_column_values[i])
    
    # Add a blank paragraph for spacing between tables
    doc.add_paragraph()
    
# table.alignment = WD_TABLE_ALIGNMENT.CENTER

# Add the image after the table
doc.add_paragraph()  # Add a blank paragraph for spacing before the image

# Add the image after the table
doc.add_paragraph()  # Add a blank paragraph for spacing before the image

# Create a paragraph for centering the image
image_paragraph = doc.add_paragraph()
image_paragraph.alignment = WD_ALIGN_PARAGRAPH.CENTER  # Center alignment

# Add the image to the document
# Resize the image (example size: 5 inches wide by 4 inches high)
image_run = image_paragraph.add_run().add_picture('building.jpg', width=Inches(5), height=Inches(4))

# Add the image after the table
doc.add_paragraph()  # Add a blank paragraph for spacing before the image

# Create a new paragraph for the address
address_paragraph = doc.add_paragraph()
address_paragraph.alignment = 1  # Center alignment

# Add address text to the paragraph
address_run = address_paragraph.add_run(property_address)

# Set font properties for the address
address_run.bold = True
address_run.italic = True
address_run.font.size = Pt(12)
address_run.font.name = 'Times New Roman'

# Add the image after the table
doc.add_paragraph()  # Add a blank paragraph for spacing before the image
doc.add_paragraph()

# Add the PRG Logo image to the same paragraph
logo_paragraph = doc.add_paragraph()
logo_paragraph.alignment = 1  # Center alignment

# Add the PRG Logo image to the paragraph
logo_paragraph.add_run().add_picture('PRG Logo.jpg', width=Inches(2.0))  # Adjust width as needed

# Add a page break
doc.add_page_break()

# Save the document
doc.save("appraisal_report.docx")
