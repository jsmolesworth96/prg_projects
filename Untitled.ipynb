{
 "cells": [
  {
   "cell_type": "code",
   "execution_count": 1,
   "id": "2a3b9039-e92a-437a-8f86-8179fe70b6a8",
   "metadata": {},
   "outputs": [],
   "source": [
    "from PIL import Image, ImageOps\n",
    "from pillow_heif import register_heif_opener\n",
    "from docx import Document\n",
    "from docx.shared import Inches\n",
    "from docx.shared import Pt\n",
    "from docx.oxml import OxmlElement\n",
    "from docx.oxml.ns import qn\n",
    "from lxml import etree\n",
    "from docx.enum.table import WD_TABLE_ALIGNMENT\n",
    "import traceback\n",
    "from docx.enum.text import WD_ALIGN_PARAGRAPH"
   ]
  },
  {
   "cell_type": "code",
   "execution_count": 3,
   "id": "40324750-e524-453e-8b3b-48e004de25c3",
   "metadata": {},
   "outputs": [
    {
     "name": "stdin",
     "output_type": "stream",
     "text": [
      "Enter the client's name:  asdf\n",
      "Enter the property address:  asdf\n",
      "Enter the report date (e.g., YYYY-MM-DD):  asdf\n",
      "Enter the PRG reference number:  asdf\n"
     ]
    }
   ],
   "source": [
    "##### Title Page\n",
    "\n",
    "# Load the base template\n",
    "doc = Document('Base Template.docx')\n",
    "\n",
    "# Add space after title paragraph\n",
    "doc.add_paragraph()  # Adds a blank paragraph for spacing\n",
    "\n",
    "# Add a title paragraph with centered text\n",
    "title_paragraph = doc.add_paragraph()\n",
    "title_run = title_paragraph.add_run(\"APPRAISAL REPORT\")\n",
    "\n",
    "# Set font properties\n",
    "title_run.bold = True\n",
    "title_run.font.size = Pt(36)\n",
    "title_run.font.name = 'Times New Roman'\n",
    "\n",
    "# Set paragraph alignment to center\n",
    "title_paragraph.alignment = 1  # Center alignment\n",
    "\n",
    "#Add space after title paragraph\n",
    "space_paragraph = doc.add_paragraph()\n",
    "space_paragraph.paragraph_format.space_before = Pt(6)\n",
    "\n",
    "# Define containers for user input\n",
    "client = input(\"Enter the client's name: \")\n",
    "property_address = input(\"Enter the property address: \")\n",
    "report_date = input(\"Enter the report date (e.g., YYYY-MM-DD): \")\n",
    "prg_ref_num = input(\"Enter the PRG reference number: \")\n",
    "\n",
    "# Create a table with two columns and four rows\n",
    "table = doc.add_table(rows=4, cols=2)\n",
    "\n",
    "# Define the left column values and corresponding user input variables\n",
    "left_column_values = [\"CLIENT\", \"PROPERTY ADDRESS\", \"REPORT DATE\", \"PRG REFERENCE NUMBER\"]\n",
    "right_column_values = [client, property_address, report_date, prg_ref_num]\n",
    "\n",
    "for row in table.rows:\n",
    "    for cell in row.cells:\n",
    "        cell.paragraphs[0].paragraph_format.space_after = Pt(18)  # Adjust this value as needed\n",
    "        cell.paragraphs[0].paragraph_format.line_spacing = Pt(12)  # Adjust this value as needed\n",
    "\n",
    "# Populate the table\n",
    "for i, row in enumerate(table.rows):\n",
    "    cell_left = row.cells[0]\n",
    "    cell_right = row.cells[1]\n",
    "\n",
    "    # Set the text for the left column\n",
    "    cell_left.text = left_column_values[i]\n",
    "    cell_left.paragraphs[0].runs[0].font.size = Pt(12)\n",
    "    cell_left.paragraphs[0].runs[0].font.name = 'Times New Roman'\n",
    "    cell_left.paragraphs[0].runs[0].font.bold = True\n",
    "    cell_left.paragraphs[0].runs[0].text = cell_left.paragraphs[0].runs[0].text.upper()\n",
    "\n",
    "    # Set the text for the right column\n",
    "    cell_right.text = right_column_values[i]\n",
    "    cell_right.paragraphs[0].runs[0].font.size = Pt(12)\n",
    "    cell_right.paragraphs[0].runs[0].font.name = 'Times New Roman'\n",
    "    cell_right.paragraphs[0].alignment = WD_ALIGN_PARAGRAPH.LEFT\n",
    "    \n",
    "table.alignment = WD_TABLE_ALIGNMENT.CENTER\n",
    "\n",
    "# Save the document\n",
    "doc.save(\"appraisal_report.docx\")"
   ]
  }
 ],
 "metadata": {
  "kernelspec": {
   "display_name": "Python 3 (ipykernel)",
   "language": "python",
   "name": "python3"
  },
  "language_info": {
   "codemirror_mode": {
    "name": "ipython",
    "version": 3
   },
   "file_extension": ".py",
   "mimetype": "text/x-python",
   "name": "python",
   "nbconvert_exporter": "python",
   "pygments_lexer": "ipython3",
   "version": "3.12.5"
  }
 },
 "nbformat": 4,
 "nbformat_minor": 5
}
