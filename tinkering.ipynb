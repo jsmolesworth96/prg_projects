{
 "cells": [
  {
   "cell_type": "code",
   "execution_count": 6,
   "metadata": {},
   "outputs": [
    {
     "ename": "SyntaxError",
     "evalue": "invalid syntax (<ipython-input-6-f1f528d44e57>, line 168)",
     "output_type": "error",
     "traceback": [
      "\u001b[1;36m  File \u001b[1;32m\"<ipython-input-6-f1f528d44e57>\"\u001b[1;36m, line \u001b[1;32m168\u001b[0m\n\u001b[1;33m    def\u001b[0m\n\u001b[1;37m       ^\u001b[0m\n\u001b[1;31mSyntaxError\u001b[0m\u001b[1;31m:\u001b[0m invalid syntax\n"
     ]
    }
   ],
   "source": [
    "import pandas as pd\n",
    "import tkinter as tk\n",
    "from tkinter import ttk\n",
    "from tkcalendar import DateEntry\n",
    "from datetime import datetime\n",
    "\n",
    "def on_submit_click(event):\n",
    "    try:\n",
    "        file_path = \"Zoning_Workbook.xlsx\"\n",
    "        df = pd.read_excel(file_path)\n",
    "        selected_excel_value = excel_selection_var.get()\n",
    "        new_df = df[df.iloc[:, 0] == selected_excel_value]\n",
    "\n",
    "        if not new_df.empty:\n",
    "            zone = new_df.iloc[0, 0]\n",
    "            zone_abr = new_df.iloc[0, 1]\n",
    "            ib = new_df.iloc[0, 2]\n",
    "            zone_desc = new_df.iloc[0, 3]\n",
    "            print(f\"Zone: {zone}\")\n",
    "            print(f\"Zone Abbreviation: {zone_abr}\")\n",
    "            print(f\"IB: {ib}\")\n",
    "            print(f\"Zone Description: {zone_desc}\")\n",
    "        else:\n",
    "            print(\"No data found for the selected value.\")\n",
    "    except Exception as e:\n",
    "        print(\"Error during submit:\", e)\n",
    "\n",
    "# Create the main window\n",
    "root = tk.Tk()\n",
    "root.title(\"Input Form\")\n",
    "\n",
    "# Containers for individual user inputs\n",
    "client_var = tk.StringVar()\n",
    "client_address_var = tk.StringVar()\n",
    "unit_of_measurement_var = tk.StringVar()\n",
    "report_date_var = tk.StringVar()\n",
    "prg_ref_num_var = tk.StringVar()\n",
    "tax_account_var = tk.StringVar()\n",
    "liber_var = tk.StringVar()\n",
    "folio_var = tk.StringVar()\n",
    "map_num_var = tk.StringVar()\n",
    "grid_var = tk.StringVar()\n",
    "parcel_var = tk.StringVar()\n",
    "election_district_var = tk.StringVar()\n",
    "census_tract_var = tk.StringVar()\n",
    "excel_selection_var = tk.StringVar()\n",
    "\n",
    "# Create and position the labels and entry fields\n",
    "tk.Label(root, text=\"Client Name:\").grid(row=0, column=0, padx=10, pady=5)\n",
    "tk.Entry(root, textvariable=client_var).grid(row=0, column=1, padx=10, pady=5)\n",
    "\n",
    "tk.Label(root, text=\"Client Address:\").grid(row=1, column=0, padx=10, pady=5)\n",
    "tk.Entry(root, textvariable=client_address_var).grid(row=1, column=1, padx=10, pady=5)\n",
    "\n",
    "tk.Label(root, text=\"Unit of Measurement:\").grid(row=2, column=0, padx=10, pady=5)\n",
    "unit_of_measurement_dropdown = ttk.Combobox(root, textvariable=unit_of_measurement_var)\n",
    "unit_of_measurement_dropdown['values'] = (\"Acres\", \"Square Feet\")\n",
    "unit_of_measurement_dropdown.grid(row=2, column=1, padx=10, pady=5)\n",
    "unit_of_measurement_dropdown.current(0)\n",
    "\n",
    "tk.Label(root, text=\"Report Date:\").grid(row=3, column=0, padx=10, pady=5)\n",
    "DateEntry(root, textvariable=report_date_var, format='yyyy-mm-dd').grid(row=3, column=1, padx=10, pady=5)\n",
    "\n",
    "labels = [\"PRG Ref Number:\", \"Tax Account:\", \"Liber:\", \"Folio:\", \"Map Number:\", \"Grid:\", \"Parcel:\", \"Election District:\", \"Census Tract:\"]\n",
    "variables = [prg_ref_num_var, tax_account_var, liber_var, folio_var, map_num_var, grid_var, parcel_var, election_district_var, census_tract_var]\n",
    "\n",
    "for i, (label_text, var) in enumerate(zip(labels, variables), start=4):\n",
    "    tk.Label(root, text=label_text).grid(row=i, column=0, padx=10, pady=5, sticky='e')\n",
    "    tk.Entry(root, textvariable=var).grid(row=i, column=1, padx=10, pady=5, sticky='w')\n",
    "\n",
    "tk.Label(root, text=\"Select Value from Excel:\").grid(row=13, column=0, padx=10, pady=5)\n",
    "excel_selection_dropdown = ttk.Combobox(root, textvariable=excel_selection_var)\n",
    "excel_selection_dropdown.grid(row=13, column=1, padx=10, pady=5)\n",
    "\n",
    "def load_excel_data():\n",
    "    try:\n",
    "        file_path = \"Zoning_Workbook.xlsx\"\n",
    "        df = pd.read_excel(file_path)\n",
    "        first_column_values = df.iloc[:, 0].unique()\n",
    "        excel_selection_dropdown['values'] = list(first_column_values)\n",
    "        excel_selection_dropdown.current(0)\n",
    "    except Exception as e:\n",
    "        print(\"Error loading Excel data:\", e)\n",
    "\n",
    "load_excel_data()\n",
    "\n",
    "submit_button = tk.Button(root, text=\"Submit\")\n",
    "submit_button.grid(row=14, columnspan=2, pady=10)\n",
    "\n",
    "submit_button.bind(\"<Button-1>\", on_submit_click)\n",
    "\n",
    "root.mainloop()\n"
   ]
  },
  {
   "cell_type": "code",
   "execution_count": 5,
   "metadata": {},
   "outputs": [
    {
     "data": {
      "text/plain": [
       "'svwe'"
      ]
     },
     "execution_count": 5,
     "metadata": {},
     "output_type": "execute_result"
    }
   ],
   "source": [
    "grid_var.get()"
   ]
  },
  {
   "cell_type": "code",
   "execution_count": 44,
   "metadata": {},
   "outputs": [
    {
     "ename": "NameError",
     "evalue": "name 'zone' is not defined",
     "output_type": "error",
     "traceback": [
      "\u001b[1;31m---------------------------------------------------------------------------\u001b[0m",
      "\u001b[1;31mNameError\u001b[0m                                 Traceback (most recent call last)",
      "\u001b[1;32m<ipython-input-44-c90a817e635d>\u001b[0m in \u001b[0;36m<module>\u001b[1;34m\u001b[0m\n\u001b[1;32m----> 1\u001b[1;33m \u001b[0mprint\u001b[0m\u001b[1;33m(\u001b[0m\u001b[0mzone\u001b[0m\u001b[1;33m)\u001b[0m\u001b[1;33m\u001b[0m\u001b[0m\n\u001b[0m",
      "\u001b[1;31mNameError\u001b[0m: name 'zone' is not defined"
     ]
    }
   ],
   "source": [
    "print(zone)"
   ]
  }
 ],
 "metadata": {
  "kernelspec": {
   "display_name": "Python 3",
   "language": "python",
   "name": "python3"
  },
  "language_info": {
   "codemirror_mode": {
    "name": "ipython",
    "version": 3
   },
   "file_extension": ".py",
   "mimetype": "text/x-python",
   "name": "python",
   "nbconvert_exporter": "python",
   "pygments_lexer": "ipython3",
   "version": "3.6.5"
  }
 },
 "nbformat": 4,
 "nbformat_minor": 4
}
