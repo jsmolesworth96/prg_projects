{
 "cells": [
  {
   "cell_type": "code",
   "execution_count": 9,
   "metadata": {},
   "outputs": [],
   "source": [
    "import docx\n",
    "from docx.oxml.ns import nsdecls\n",
    "from docx.oxml import parse_xml\n",
    "from docx.enum.table import WD_TABLE_ALIGNMENT\n",
    "from docx.shared import Inches\n",
    "\n",
    "pic = \"PRG Logo.jpg\"\n",
    "document = docx.Document()\n",
    "tbl = document.add_table(rows=1, cols=2)\n",
    "row_cells = tbl.rows[0].cells\n",
    "paragraph = row_cells[1].paragraphs[0]\n",
    "paragraph.alignment = docx.enum.text.WD_ALIGN_PARAGRAPH.RIGHT\n",
    "run = paragraph.add_run()\n",
    "run.add_picture(pic, width=1050000, height=475000)\n",
    "paragraph_format = paragraph.paragraph_format\n",
    "paragraph_format.space_after = docx.shared.Pt(0)\n",
    "shading_elm_left = parse_xml(r'<w:shd {} w:fill=\"D0D0D0\"/>'.format(nsdecls('w')))\n",
    "row_cells[0]._tc.get_or_add_tcPr().append(shading_elm_left)\n",
    "shading_elm_right = parse_xml(r'<w:shd {} w:fill=\"D0D0D0\"/>'.format(nsdecls('w')))\n",
    "row_cells[1]._tc.get_or_add_tcPr().append(shading_elm_right)\n",
    "tbl.alignment = WD_TABLE_ALIGNMENT.CENTER\n",
    "\n",
    "# Save the document\n",
    "document.save(\"test.docx\")\n"
   ]
  }
 ],
 "metadata": {
  "kernelspec": {
   "display_name": "Python 3",
   "language": "python",
   "name": "python3"
  },
  "language_info": {
   "codemirror_mode": {
    "name": "ipython",
    "version": 3
   },
   "file_extension": ".py",
   "mimetype": "text/x-python",
   "name": "python",
   "nbconvert_exporter": "python",
   "pygments_lexer": "ipython3",
   "version": "3.6.5"
  }
 },
 "nbformat": 4,
 "nbformat_minor": 5
}
